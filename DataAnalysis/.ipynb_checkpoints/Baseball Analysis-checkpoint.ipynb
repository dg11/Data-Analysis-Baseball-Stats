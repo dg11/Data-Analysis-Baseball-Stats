{
 "cells": [
  {
   "cell_type": "markdown",
   "metadata": {
    "collapsed": true
   },
   "source": [
    "Loading the Baseball Files"
   ]
  },
  {
   "cell_type": "markdown",
   "metadata": {},
   "source": [
    "# Data Analysis Using Numpy/Pandas - Baseball Dataset\n",
    "\n",
    "## Key Points\n",
    "* Correlation between Team Perfromace Metrics\n",
    "* Characteristics of Highly Paid Players\n",
    "* Correlation between Player/League Perfromace Metrics\n",
    "* Just a sneak peak of Cubs vs Whitesox Comparision\n",
    "\n",
    "**Note**: For ease of use the data used for anaylsis was from the year 2011 and above"
   ]
  },
  {
   "cell_type": "code",
   "execution_count": 637,
   "metadata": {
    "collapsed": true
   },
   "outputs": [],
   "source": [
    "#Common Library Imports\n",
    "import numpy as np\n",
    "import pandas as pd\n",
    "import matplotlib.pyplot as plt\n",
    "plt.style.use('ggplot')\n",
    "#For better plotting\n",
    "import seaborn as sns\n",
    "#To print all graphs inline\n",
    "%matplotlib inline  "
   ]
  },
  {
   "cell_type": "code",
   "execution_count": 638,
   "metadata": {
    "collapsed": true
   },
   "outputs": [],
   "source": [
    "#To run all output blocks of the code in a cell\n",
    "from IPython.core.interactiveshell import InteractiveShell\n",
    "InteractiveShell.ast_node_interactivity = \"all\""
   ]
  },
  {
   "cell_type": "code",
   "execution_count": 639,
   "metadata": {},
   "outputs": [],
   "source": [
    "#Loading all Input Data\n",
    "teamInfo = pd.read_csv(\"./DataSet/Teams.csv\")\n",
    "playerInfo = pd.read_csv(\"./DataSet/Master.csv\")\n",
    "salaryInfo = pd.read_csv(\"./DataSet/Salaries.csv\")\n",
    "seriesPostInfo = pd.read_csv(\"./DataSet/SeriesPost.csv\")\n",
    "battingInfo = pd.read_csv(\"./DataSet/Batting.csv\")\n",
    "battingPostInfo = pd.read_csv(\"./DataSet/BattingPost.csv\")\n",
    "pitchingInfo = pd.read_csv(\"./DataSet/Pitching.csv\")\n",
    "pitchingPostInfo = pd.read_csv(\"./DataSet/PitchingPost.csv\")\n",
    "AllstarInfo = pd.read_csv(\"./DataSet/AllstarFull.csv\")"
   ]
  },
  {
   "cell_type": "markdown",
   "metadata": {},
   "source": [
    "## Statistics Used For Analysis\n",
    "\n",
    "I am a newbie to the terms and stats used in baseball sport as I don't follow the sport very much. I have decided to stick to the basics. Inspired by the **Monyeball theory** I have used the following stats for pitchers and batter to perform my analysis.  \n",
    "\n",
    "The following metrics were used to caluclate the metrics below\n",
    "\n",
    "* Rank: Position in final standings\n",
    "* R: Runs scored\n",
    "* RA: Opponents runs scored\n",
    "* G: Games played\n",
    "* W: Wins\n",
    "* H: Hits by batters\n",
    "* BB: Walks by batters\n",
    "* HBP: Batters hit by pitch\n",
    "* AB: At bats\n",
    "* SF: Sacrifice flies\n",
    "* HR: Homeruns by batters\n",
    "* 2B: Doubles\n",
    "* 3B: Triples\n",
    "\n",
    "## Batters:\n",
    "The **Batting Average [BA]** is defined by the number of hits divided by at bats. It can be calculated using the formula below:\n",
    "\n",
    "* BA = H/AB\n",
    "\n",
    "**On-base Percentage** is a measure of how often a batter reaches base for any reason other than a fielding error, fielder's choice, dropped/uncaught third strike, fielder's obstruction, or catcher's interference. It can be calculated using the formula below:\n",
    "\n",
    "* OBP = (H+BB+HBP)/(AB+BB+HBP+SF)\n",
    "\n",
    "**Slugging Percentage** is a measure of the power of a hitter. It can ve calculated using the formula below:\n",
    "\n",
    "* SLG = H+2B+(2*3B)+(3*HR)/AB\n",
    "\n",
    "## Pitchers:\n",
    "**Earned Run Average (ERA)** - Already provided in the dataset.\n",
    "\n",
    "## Monyeball Experiment Analysis:\n",
    "Based on the analysis, a good strategy for recruiting batters would focus on targeting undervalued players with high OBP and SLG. Although BA and OBP have a positive correlation, there were some players that have high OBP and SLG, and relatively small BA. These players were undervalued by the market, and were the target for recruitment."
   ]
  },
  {
   "cell_type": "markdown",
   "metadata": {},
   "source": [
    "## Data Cleanup\n",
    "The team ID values from the dataset **Salary** and **Teams** is not consistent. The team ID is cleaned up to make it consistent. The function **setTeamID()** function is used to do the cleanup."
   ]
  },
  {
   "cell_type": "code",
   "execution_count": 640,
   "metadata": {},
   "outputs": [],
   "source": [
    "def setTeamID(data):\n",
    "        data['teamID'].replace('CHA', 'CHW',inplace=True)\n",
    "        data['teamID'].replace('CHN', 'CHC',inplace=True)\n",
    "        data['teamID'].replace('LAN', 'LAD',inplace=True)\n",
    "        data['teamID'].replace('NYA', 'NYM',inplace=True)\n",
    "        data['teamID'].replace('KCA', 'KCR',inplace=True)\n",
    "        data['teamID'].replace('NYN', 'NYY',inplace=True)\n",
    "        data['teamID'].replace('SDN', 'SDP',inplace=True)\n",
    "        data['teamID'].replace('SFN', 'SFG',inplace=True)\n",
    "        data['teamID'].replace('SLN', 'STL',inplace=True)\n",
    "        data['teamID'].replace('TBA', 'TBR',inplace=True)\n",
    "        data['teamID'].replace('WAS', 'WSN',inplace=True)"
   ]
  },
  {
   "cell_type": "code",
   "execution_count": 641,
   "metadata": {},
   "outputs": [],
   "source": [
    "#Cleaning Up Data for Team dataset\n",
    "setTeamID(teamInfo)"
   ]
  },
  {
   "cell_type": "code",
   "execution_count": 642,
   "metadata": {},
   "outputs": [],
   "source": [
    "#Five Year Dataset\n",
    "teamLastFiveYrs = teamInfo[teamInfo['yearID'] > 2011]\n",
    "teamInfo2016 = teamInfo[teamInfo['yearID'] == 2016]\n",
    "#Five Year Dataset\n",
    "salaryInfo2016 = salaryInfo[salaryInfo['yearID'] == 2016]\n",
    "salaryLastFiveYrs = salaryInfo[salaryInfo['yearID'] > 2011]"
   ]
  },
  {
   "cell_type": "code",
   "execution_count": 643,
   "metadata": {},
   "outputs": [],
   "source": [
    "teamInfo2016 = teamInfo2016[['yearID','teamID','name','park','lgID','divID','Rank', 'R', 'RA', 'G', 'W', 'H', 'BB', 'HBP', 'AB', 'SF', 'HR', '2B', '3B', 'ERA']]\n",
    "teamLastFiveYrs = teamLastFiveYrs[['yearID','teamID','name','park','lgID','divID','Rank', 'R', 'RA', 'G', 'W', 'H', 'BB', 'HBP', 'AB', 'SF', 'HR', '2B', '3B', 'ERA']]"
   ]
  },
  {
   "cell_type": "markdown",
   "metadata": {},
   "source": [
    "## Metrics Calculation\n",
    "The function **calulateMetrics()** will calculate the following metircs\n",
    "* Batting Average\n",
    "* On-Base Percentage\n",
    "* Sluggish Percentage"
   ]
  },
  {
   "cell_type": "code",
   "execution_count": 644,
   "metadata": {
    "collapsed": true
   },
   "outputs": [],
   "source": [
    "def calulateMetrics(data):\n",
    "    data['BA'] = data['H']/data['AB']\n",
    "    data['OBP'] = (data['H'] + data['BB'] + data['HBP']) / (data['AB'] + data['BB'] + data['HBP'] + data['SF'])\n",
    "    data['SLG'] = (data['H'] + data['2B'] + (2*data['3B']) + (3*data['HR'])) / data['AB']\n",
    "    #Winning Percentage [WP]\n",
    "    data['WP'] = data['W']/data['G']\n",
    "    #On Base Plus Slugging [OPS] - On Base Percentage + Slugging Average\n",
    "    data['OPS'] = data['OBP'] + data['SLG']\n",
    "    return data\n",
    "    "
   ]
  },
  {
   "cell_type": "code",
   "execution_count": 645,
   "metadata": {},
   "outputs": [],
   "source": [
    "teamInfo2016 = calulateMetrics(teamInfo2016)\n",
    "teamLastFiveYrs = calulateMetrics(teamLastFiveYrs)  "
   ]
  },
  {
   "cell_type": "code",
   "execution_count": 646,
   "metadata": {
    "collapsed": true
   },
   "outputs": [],
   "source": [
    "def getDataByLeague(data, league):\n",
    "    return data[data['lgID'] == league]"
   ]
  },
  {
   "cell_type": "code",
   "execution_count": 647,
   "metadata": {},
   "outputs": [],
   "source": [
    "#Split the Team Info by League AL & NL\n",
    "teamInfoAL2016 = getDataByLeague(teamInfo2016, 'AL')\n",
    "teamInfoNL2016 = getDataByLeague(teamInfo2016, 'NL')\n",
    "teamInfoALFiveYrs = getDataByLeague(teamLastFiveYrs, 'AL')\n",
    "teamInfoNLFiveYrs = getDataByLeague(teamLastFiveYrs, 'NL')"
   ]
  },
  {
   "cell_type": "markdown",
   "metadata": {},
   "source": [
    "## Calculating Descriptive Statistics"
   ]
  },
  {
   "cell_type": "code",
   "execution_count": 648,
   "metadata": {},
   "outputs": [],
   "source": [
    "#Calculating League Stats\n",
    "teamInfoNL2016Stats = teamInfoNL2016[['R','BA','OBP','SLG','OPS','HR','ERA']].describe()\n",
    "teamInfoNL5YrsStats = teamInfoNLFiveYrs[['R','BA','OBP','SLG','OPS','HR','ERA']].describe()\n",
    "teamInfoAL2016Stats = teamInfoAL2016[['R','BA','OBP','SLG','OPS','HR','ERA']].describe()\n",
    "teamInfoAL5YrsStats = teamInfoALFiveYrs[['R','BA','OBP','SLG','OPS','HR','ERA']].describe()"
   ]
  },
  {
   "cell_type": "markdown",
   "metadata": {},
   "source": [
    "## League Stats for the year 2016 and for the last five years"
   ]
  },
  {
   "cell_type": "markdown",
   "metadata": {},
   "source": [
    "**National League[NL] Stats**\n",
    "* Year 2016\n",
    "* Last Five Years [2011 & Above]"
   ]
  },
  {
   "cell_type": "code",
   "execution_count": 649,
   "metadata": {},
   "outputs": [
    {
     "data": {
      "text/plain": [
       "R      718.266667\n",
       "BA       0.253744\n",
       "OBP      0.321912\n",
       "SLG      0.411938\n",
       "OPS      0.733850\n",
       "HR     177.133333\n",
       "ERA      4.165333\n",
       "Name: mean, dtype: float64"
      ]
     },
     "execution_count": 649,
     "metadata": {},
     "output_type": "execute_result"
    },
    {
     "data": {
      "text/plain": [
       "R      671.434211\n",
       "BA       0.252215\n",
       "OBP      0.316415\n",
       "SLG      0.395997\n",
       "OPS      0.712412\n",
       "HR     151.947368\n",
       "ERA      3.883947\n",
       "Name: mean, dtype: float64"
      ]
     },
     "execution_count": 649,
     "metadata": {},
     "output_type": "execute_result"
    }
   ],
   "source": [
    "#National League Stats\n",
    "teamInfoNL2016Stats.iloc[1]\n",
    "teamInfoNL5YrsStats.iloc[1]"
   ]
  },
  {
   "cell_type": "markdown",
   "metadata": {},
   "source": [
    "**American League[AL] Stats**\n",
    "* Year 2016\n",
    "* Last Five Years [2011 & Above]"
   ]
  },
  {
   "cell_type": "code",
   "execution_count": 650,
   "metadata": {},
   "outputs": [
    {
     "data": {
      "text/plain": [
       "R      731.333333\n",
       "BA       0.256792\n",
       "OBP      0.320978\n",
       "SLG      0.422620\n",
       "OPS      0.743598\n",
       "HR     196.866667\n",
       "ERA      4.203333\n",
       "Name: mean, dtype: float64"
      ]
     },
     "execution_count": 650,
     "metadata": {},
     "output_type": "execute_result"
    },
    {
     "data": {
      "text/plain": [
       "R      708.040541\n",
       "BA       0.255227\n",
       "OBP      0.318814\n",
       "SLG      0.407943\n",
       "OPS      0.726757\n",
       "HR     172.324324\n",
       "ERA      4.018378\n",
       "Name: mean, dtype: float64"
      ]
     },
     "execution_count": 650,
     "metadata": {},
     "output_type": "execute_result"
    }
   ],
   "source": [
    "#American League Stats\n",
    "teamInfoAL2016Stats.iloc[1]\n",
    "teamInfoAL5YrsStats.iloc[1]"
   ]
  },
  {
   "cell_type": "markdown",
   "metadata": {},
   "source": [
    "## Calculating the Co-relation between Input Variables"
   ]
  },
  {
   "cell_type": "markdown",
   "metadata": {},
   "source": [
    "* **Runs Scored Vs On-Base Percentage** [National League, 2016]"
   ]
  },
  {
   "cell_type": "code",
   "execution_count": 651,
   "metadata": {},
   "outputs": [
    {
     "data": {
      "text/plain": [
       "<matplotlib.axes._subplots.AxesSubplot at 0x118964b70>"
      ]
     },
     "execution_count": 651,
     "metadata": {},
     "output_type": "execute_result"
    },
    {
     "data": {
      "image/png": "[encoded data removed]",
      "text/plain": [
       "<matplotlib.figure.Figure at 0x115c33278>"
      ]
     },
     "metadata": {},
     "output_type": "display_data"
    }
   ],
   "source": [
    "sns.heatmap(teamInfoNL2016[['R', 'OBP']].corr(), annot=True, fmt=\"g\", cmap='BuGn_r')"
   ]
  },
  {
   "cell_type": "code",
   "execution_count": 652,
   "metadata": {},
   "outputs": [
    {
     "data": {
      "image/png": "[encoded data removed]",
      "text/plain": [
       "<matplotlib.figure.Figure at 0x118adee10>"
      ]
     },
     "metadata": {},
     "output_type": "display_data"
    }
   ],
   "source": [
    "import seaborn as sns; sns.set(color_codes=True)\n",
    "ax = sns.regplot(x=teamInfoNL2016['R'].head(), y=teamInfoNL2016['OBP'].head())"
   ]
  },
  {
   "cell_type": "markdown",
   "metadata": {},
   "source": [
    "* **Runs Scored Vs Sluggish Percentage** [American League, 2016]"
   ]
  },
  {
   "cell_type": "code",
   "execution_count": 653,
   "metadata": {
    "scrolled": true
   },
   "outputs": [
    {
     "data": {
      "text/plain": [
       "<matplotlib.axes._subplots.AxesSubplot at 0x11e3b9da0>"
      ]
     },
     "execution_count": 653,
     "metadata": {},
     "output_type": "execute_result"
    },
    {
     "data": {
      "image/png": "[encoded data removed]",
      "text/plain": [
       "<matplotlib.figure.Figure at 0x11e36e358>"
      ]
     },
     "metadata": {},
     "output_type": "display_data"
    }
   ],
   "source": [
    "sns.heatmap(teamInfoAL2016[['R', 'SLG']].corr(), annot=True, fmt=\"g\", cmap='viridis')"
   ]
  },
  {
   "cell_type": "code",
   "execution_count": 654,
   "metadata": {},
   "outputs": [
    {
     "data": {
      "image/png": "[encoded data removed]",
      "text/plain": [
       "<matplotlib.figure.Figure at 0x11e39c2e8>"
      ]
     },
     "metadata": {},
     "output_type": "display_data"
    }
   ],
   "source": [
    "import seaborn as sns; sns.set(color_codes=True)\n",
    "ax = sns.regplot(x=teamInfoAL2016['R'].head(), y=teamInfoAL2016['SLG'].head())"
   ]
  },
  {
   "cell_type": "markdown",
   "metadata": {},
   "source": [
    "## Result:\n",
    "* Both **On-Base Percentage** and **Sluggish Percentage** have a **strong co-relation** with **Runs Scored**\n",
    "* Although both the metrics have a strong co-relation **Sluggish Percentgae** is the **strongest** of the both"
   ]
  },
  {
   "cell_type": "markdown",
   "metadata": {},
   "source": [
    "## Team Comparison - WS/Cubs"
   ]
  },
  {
   "cell_type": "markdown",
   "metadata": {
    "collapsed": true
   },
   "source": [
    "## League Player Salary and Batting Metrics \n",
    "\n",
    "The following analysis will look into the salary cap and the perfromance metrics of the players in National and American League"
   ]
  },
  {
   "cell_type": "code",
   "execution_count": 655,
   "metadata": {},
   "outputs": [
    {
     "data": {
      "text/html": [
       "<div>\n",
       "<style>\n",
       "    .dataframe thead tr:only-child th {\n",
       "        text-align: right;\n",
       "    }\n",
       "\n",
       "    .dataframe thead th {\n",
       "        text-align: left;\n",
       "    }\n",
       "\n",
       "    .dataframe tbody tr th {\n",
       "        vertical-align: top;\n",
       "    }\n",
       "</style>\n",
       "<table border=\"1\" class=\"dataframe\">\n",
       "  <thead>\n",
       "    <tr style=\"text-align: right;\">\n",
       "      <th></th>\n",
       "      <th>yearID</th>\n",
       "      <th>teamID</th>\n",
       "      <th>lgID</th>\n",
       "      <th>playerID</th>\n",
       "      <th>R</th>\n",
       "      <th>G</th>\n",
       "      <th>H</th>\n",
       "      <th>BB</th>\n",
       "      <th>HBP</th>\n",
       "      <th>AB</th>\n",
       "      <th>SF</th>\n",
       "      <th>HR</th>\n",
       "      <th>2B</th>\n",
       "      <th>3B</th>\n",
       "    </tr>\n",
       "  </thead>\n",
       "  <tbody>\n",
       "    <tr>\n",
       "      <th>101333</th>\n",
       "      <td>2016</td>\n",
       "      <td>MIN</td>\n",
       "      <td>AL</td>\n",
       "      <td>abadfe01</td>\n",
       "      <td>0</td>\n",
       "      <td>39</td>\n",
       "      <td>0</td>\n",
       "      <td>0</td>\n",
       "      <td>0.0</td>\n",
       "      <td>1</td>\n",
       "      <td>0.0</td>\n",
       "      <td>0</td>\n",
       "      <td>0</td>\n",
       "      <td>0</td>\n",
       "    </tr>\n",
       "    <tr>\n",
       "      <th>101334</th>\n",
       "      <td>2016</td>\n",
       "      <td>BOS</td>\n",
       "      <td>AL</td>\n",
       "      <td>abadfe01</td>\n",
       "      <td>0</td>\n",
       "      <td>18</td>\n",
       "      <td>0</td>\n",
       "      <td>0</td>\n",
       "      <td>0.0</td>\n",
       "      <td>0</td>\n",
       "      <td>0.0</td>\n",
       "      <td>0</td>\n",
       "      <td>0</td>\n",
       "      <td>0</td>\n",
       "    </tr>\n",
       "    <tr>\n",
       "      <th>101335</th>\n",
       "      <td>2016</td>\n",
       "      <td>CHW</td>\n",
       "      <td>AL</td>\n",
       "      <td>abreujo02</td>\n",
       "      <td>67</td>\n",
       "      <td>159</td>\n",
       "      <td>183</td>\n",
       "      <td>47</td>\n",
       "      <td>15.0</td>\n",
       "      <td>624</td>\n",
       "      <td>9.0</td>\n",
       "      <td>25</td>\n",
       "      <td>32</td>\n",
       "      <td>1</td>\n",
       "    </tr>\n",
       "    <tr>\n",
       "      <th>101336</th>\n",
       "      <td>2016</td>\n",
       "      <td>LAA</td>\n",
       "      <td>AL</td>\n",
       "      <td>achteaj01</td>\n",
       "      <td>0</td>\n",
       "      <td>27</td>\n",
       "      <td>0</td>\n",
       "      <td>0</td>\n",
       "      <td>0.0</td>\n",
       "      <td>0</td>\n",
       "      <td>0.0</td>\n",
       "      <td>0</td>\n",
       "      <td>0</td>\n",
       "      <td>0</td>\n",
       "    </tr>\n",
       "    <tr>\n",
       "      <th>101337</th>\n",
       "      <td>2016</td>\n",
       "      <td>NYM</td>\n",
       "      <td>AL</td>\n",
       "      <td>ackledu01</td>\n",
       "      <td>6</td>\n",
       "      <td>28</td>\n",
       "      <td>9</td>\n",
       "      <td>8</td>\n",
       "      <td>0.0</td>\n",
       "      <td>61</td>\n",
       "      <td>1.0</td>\n",
       "      <td>0</td>\n",
       "      <td>0</td>\n",
       "      <td>0</td>\n",
       "    </tr>\n",
       "  </tbody>\n",
       "</table>\n",
       "</div>"
      ],
      "text/plain": [
       "        yearID teamID lgID   playerID   R    G    H  BB   HBP   AB   SF  HR  \\\n",
       "101333    2016    MIN   AL   abadfe01   0   39    0   0   0.0    1  0.0   0   \n",
       "101334    2016    BOS   AL   abadfe01   0   18    0   0   0.0    0  0.0   0   \n",
       "101335    2016    CHW   AL  abreujo02  67  159  183  47  15.0  624  9.0  25   \n",
       "101336    2016    LAA   AL  achteaj01   0   27    0   0   0.0    0  0.0   0   \n",
       "101337    2016    NYM   AL  ackledu01   6   28    9   8   0.0   61  1.0   0   \n",
       "\n",
       "        2B  3B  \n",
       "101333   0   0  \n",
       "101334   0   0  \n",
       "101335  32   1  \n",
       "101336   0   0  \n",
       "101337   0   0  "
      ]
     },
     "execution_count": 655,
     "metadata": {},
     "output_type": "execute_result"
    }
   ],
   "source": [
    "#Cleaning Up Data for Team dataset\n",
    "setTeamID(battingInfo)\n",
    "#Five Year Dataset\n",
    "battingFiveYrs = battingInfo[battingInfo['yearID'] > 2011]\n",
    "batting2016 = battingInfo[battingInfo['yearID'] == 2016]\n",
    "batting2016 = batting2016[['yearID', 'teamID', 'lgID', 'playerID','R','G', 'H', 'BB', 'HBP', 'AB', 'SF', 'HR', '2B', '3B']]\n",
    "battingFiveYrs = battingFiveYrs[['yearID', 'teamID', 'lgID', 'playerID','R','G', 'H', 'BB', 'HBP', 'AB', 'SF', 'HR', '2B', '3B']]\n",
    "batting2016.head()"
   ]
  },
  {
   "cell_type": "code",
   "execution_count": 656,
   "metadata": {
    "collapsed": true
   },
   "outputs": [],
   "source": [
    "def calculateBattingMetrics(data):\n",
    "    data['BA'] = data['H']/data['AB']\n",
    "    data['OBP'] = (data['H'] + data['BB'] + data['HBP']) / (data['AB'] + data['BB'] + data['HBP'] + data['SF'])\n",
    "    data['SLG'] = (data['H'] + data['2B'] + (2*data['3B']) + (3*data['HR'])) / data['AB']\n",
    "    #HR Ratio [HRRation]\n",
    "    data['HRRatio'] = data['HR']/data['AB']\n",
    "    #On Base Plus Slugging [OPS] - On Base Percentage + Slugging Average\n",
    "    data['OPS'] = data['OBP'] + data['SLG']\n",
    "    return data"
   ]
  },
  {
   "cell_type": "code",
   "execution_count": 657,
   "metadata": {},
   "outputs": [
    {
     "data": {
      "text/html": [
       "<div>\n",
       "<style>\n",
       "    .dataframe thead tr:only-child th {\n",
       "        text-align: right;\n",
       "    }\n",
       "\n",
       "    .dataframe thead th {\n",
       "        text-align: left;\n",
       "    }\n",
       "\n",
       "    .dataframe tbody tr th {\n",
       "        vertical-align: top;\n",
       "    }\n",
       "</style>\n",
       "<table border=\"1\" class=\"dataframe\">\n",
       "  <thead>\n",
       "    <tr style=\"text-align: right;\">\n",
       "      <th></th>\n",
       "      <th>yearID</th>\n",
       "      <th>teamID</th>\n",
       "      <th>lgID</th>\n",
       "      <th>playerID</th>\n",
       "      <th>R</th>\n",
       "      <th>G</th>\n",
       "      <th>H</th>\n",
       "      <th>BB</th>\n",
       "      <th>HBP</th>\n",
       "      <th>AB</th>\n",
       "      <th>SF</th>\n",
       "      <th>HR</th>\n",
       "      <th>2B</th>\n",
       "      <th>3B</th>\n",
       "      <th>BA</th>\n",
       "      <th>OBP</th>\n",
       "      <th>SLG</th>\n",
       "      <th>HRRatio</th>\n",
       "      <th>OPS</th>\n",
       "    </tr>\n",
       "  </thead>\n",
       "  <tbody>\n",
       "    <tr>\n",
       "      <th>95595</th>\n",
       "      <td>2012</td>\n",
       "      <td>NYM</td>\n",
       "      <td>AL</td>\n",
       "      <td>aardsda01</td>\n",
       "      <td>0</td>\n",
       "      <td>1</td>\n",
       "      <td>0</td>\n",
       "      <td>0</td>\n",
       "      <td>0.0</td>\n",
       "      <td>0</td>\n",
       "      <td>0.0</td>\n",
       "      <td>0</td>\n",
       "      <td>0</td>\n",
       "      <td>0</td>\n",
       "      <td>0.000000</td>\n",
       "      <td>0.000000</td>\n",
       "      <td>0.000000</td>\n",
       "      <td>0.000000</td>\n",
       "      <td>0.000000</td>\n",
       "    </tr>\n",
       "    <tr>\n",
       "      <th>95596</th>\n",
       "      <td>2012</td>\n",
       "      <td>HOU</td>\n",
       "      <td>NL</td>\n",
       "      <td>abadfe01</td>\n",
       "      <td>0</td>\n",
       "      <td>37</td>\n",
       "      <td>1</td>\n",
       "      <td>0</td>\n",
       "      <td>0.0</td>\n",
       "      <td>7</td>\n",
       "      <td>0.0</td>\n",
       "      <td>0</td>\n",
       "      <td>0</td>\n",
       "      <td>0</td>\n",
       "      <td>0.142857</td>\n",
       "      <td>0.142857</td>\n",
       "      <td>0.142857</td>\n",
       "      <td>0.000000</td>\n",
       "      <td>0.285714</td>\n",
       "    </tr>\n",
       "    <tr>\n",
       "      <th>95597</th>\n",
       "      <td>2012</td>\n",
       "      <td>LAA</td>\n",
       "      <td>AL</td>\n",
       "      <td>abreubo01</td>\n",
       "      <td>1</td>\n",
       "      <td>8</td>\n",
       "      <td>5</td>\n",
       "      <td>2</td>\n",
       "      <td>0.0</td>\n",
       "      <td>24</td>\n",
       "      <td>1.0</td>\n",
       "      <td>0</td>\n",
       "      <td>3</td>\n",
       "      <td>0</td>\n",
       "      <td>0.208333</td>\n",
       "      <td>0.259259</td>\n",
       "      <td>0.333333</td>\n",
       "      <td>0.000000</td>\n",
       "      <td>0.592593</td>\n",
       "    </tr>\n",
       "    <tr>\n",
       "      <th>95598</th>\n",
       "      <td>2012</td>\n",
       "      <td>LAD</td>\n",
       "      <td>NL</td>\n",
       "      <td>abreubo01</td>\n",
       "      <td>28</td>\n",
       "      <td>92</td>\n",
       "      <td>48</td>\n",
       "      <td>35</td>\n",
       "      <td>0.0</td>\n",
       "      <td>195</td>\n",
       "      <td>0.0</td>\n",
       "      <td>3</td>\n",
       "      <td>8</td>\n",
       "      <td>1</td>\n",
       "      <td>0.246154</td>\n",
       "      <td>0.360870</td>\n",
       "      <td>0.343590</td>\n",
       "      <td>0.015385</td>\n",
       "      <td>0.704459</td>\n",
       "    </tr>\n",
       "    <tr>\n",
       "      <th>95599</th>\n",
       "      <td>2012</td>\n",
       "      <td>KCR</td>\n",
       "      <td>AL</td>\n",
       "      <td>abreuto01</td>\n",
       "      <td>5</td>\n",
       "      <td>22</td>\n",
       "      <td>18</td>\n",
       "      <td>2</td>\n",
       "      <td>1.0</td>\n",
       "      <td>70</td>\n",
       "      <td>1.0</td>\n",
       "      <td>1</td>\n",
       "      <td>2</td>\n",
       "      <td>1</td>\n",
       "      <td>0.257143</td>\n",
       "      <td>0.283784</td>\n",
       "      <td>0.357143</td>\n",
       "      <td>0.014286</td>\n",
       "      <td>0.640927</td>\n",
       "    </tr>\n",
       "  </tbody>\n",
       "</table>\n",
       "</div>"
      ],
      "text/plain": [
       "       yearID teamID lgID   playerID   R   G   H  BB  HBP   AB   SF  HR  2B  \\\n",
       "95595    2012    NYM   AL  aardsda01   0   1   0   0  0.0    0  0.0   0   0   \n",
       "95596    2012    HOU   NL   abadfe01   0  37   1   0  0.0    7  0.0   0   0   \n",
       "95597    2012    LAA   AL  abreubo01   1   8   5   2  0.0   24  1.0   0   3   \n",
       "95598    2012    LAD   NL  abreubo01  28  92  48  35  0.0  195  0.0   3   8   \n",
       "95599    2012    KCR   AL  abreuto01   5  22  18   2  1.0   70  1.0   1   2   \n",
       "\n",
       "       3B        BA       OBP       SLG   HRRatio       OPS  \n",
       "95595   0  0.000000  0.000000  0.000000  0.000000  0.000000  \n",
       "95596   0  0.142857  0.142857  0.142857  0.000000  0.285714  \n",
       "95597   0  0.208333  0.259259  0.333333  0.000000  0.592593  \n",
       "95598   1  0.246154  0.360870  0.343590  0.015385  0.704459  \n",
       "95599   1  0.257143  0.283784  0.357143  0.014286  0.640927  "
      ]
     },
     "execution_count": 657,
     "metadata": {},
     "output_type": "execute_result"
    }
   ],
   "source": [
    "batting2016 = calculateBattingMetrics(batting2016).fillna(0)\n",
    "battingFiveYrs = calculateBattingMetrics(battingFiveYrs).fillna(0)\n",
    "battingFiveYrs.head()"
   ]
  },
  {
   "cell_type": "code",
   "execution_count": 658,
   "metadata": {},
   "outputs": [],
   "source": [
    "SalariesBy2016 = salaryInfo2016.groupby(['playerID', 'yearID']).sum().reset_index()\n",
    "SalariesBy5Yrs = salaryLastFiveYrs.groupby(['playerID', 'yearID']).sum().reset_index()"
   ]
  },
  {
   "cell_type": "code",
   "execution_count": 659,
   "metadata": {
    "collapsed": true
   },
   "outputs": [],
   "source": [
    "def AddPlayerNames(data):\n",
    "    return pd.merge(playerInfo[['nameFirst','nameLast','nameGiven','playerID']], data, on=['playerID'], how='inner')"
   ]
  },
  {
   "cell_type": "code",
   "execution_count": 660,
   "metadata": {
    "collapsed": true
   },
   "outputs": [],
   "source": [
    "def getTeamInfo(data):\n",
    "    #teamInfo = setTeamID(teamInfo)\n",
    "    return pd.merge(teamInfo[['name','park','teamID']], data, on=['teamID'], how='inner')"
   ]
  },
  {
   "cell_type": "code",
   "execution_count": 661,
   "metadata": {},
   "outputs": [
    {
     "data": {
      "text/html": [
       "<div>\n",
       "<style>\n",
       "    .dataframe thead tr:only-child th {\n",
       "        text-align: right;\n",
       "    }\n",
       "\n",
       "    .dataframe thead th {\n",
       "        text-align: left;\n",
       "    }\n",
       "\n",
       "    .dataframe tbody tr th {\n",
       "        vertical-align: top;\n",
       "    }\n",
       "</style>\n",
       "<table border=\"1\" class=\"dataframe\">\n",
       "  <thead>\n",
       "    <tr style=\"text-align: right;\">\n",
       "      <th></th>\n",
       "      <th>name</th>\n",
       "      <th>park</th>\n",
       "      <th>teamID</th>\n",
       "      <th>nameFirst</th>\n",
       "      <th>nameLast</th>\n",
       "      <th>nameGiven</th>\n",
       "      <th>playerID</th>\n",
       "      <th>yearID</th>\n",
       "      <th>lgID</th>\n",
       "      <th>R</th>\n",
       "      <th>...</th>\n",
       "      <th>SF</th>\n",
       "      <th>HR</th>\n",
       "      <th>2B</th>\n",
       "      <th>3B</th>\n",
       "      <th>BA</th>\n",
       "      <th>OBP</th>\n",
       "      <th>SLG</th>\n",
       "      <th>HRRatio</th>\n",
       "      <th>OPS</th>\n",
       "      <th>salary</th>\n",
       "    </tr>\n",
       "  </thead>\n",
       "  <tbody>\n",
       "    <tr>\n",
       "      <th>0</th>\n",
       "      <td>Chicago White Stockings</td>\n",
       "      <td>23rd Street Grounds</td>\n",
       "      <td>CHC</td>\n",
       "      <td>Jon</td>\n",
       "      <td>Lester</td>\n",
       "      <td>Jonathan Tyler</td>\n",
       "      <td>lestejo01</td>\n",
       "      <td>2016</td>\n",
       "      <td>NL</td>\n",
       "      <td>3</td>\n",
       "      <td>...</td>\n",
       "      <td>0.0</td>\n",
       "      <td>0</td>\n",
       "      <td>3</td>\n",
       "      <td>0</td>\n",
       "      <td>0.101695</td>\n",
       "      <td>0.184615</td>\n",
       "      <td>0.152542</td>\n",
       "      <td>0.000000</td>\n",
       "      <td>0.337158</td>\n",
       "      <td>25000000</td>\n",
       "    </tr>\n",
       "    <tr>\n",
       "      <th>1</th>\n",
       "      <td>Chicago White Stockings</td>\n",
       "      <td>23rd Street Grounds</td>\n",
       "      <td>CHC</td>\n",
       "      <td>Jon</td>\n",
       "      <td>Lester</td>\n",
       "      <td>Jonathan Tyler</td>\n",
       "      <td>lestejo01</td>\n",
       "      <td>2015</td>\n",
       "      <td>NL</td>\n",
       "      <td>6</td>\n",
       "      <td>...</td>\n",
       "      <td>0.0</td>\n",
       "      <td>0</td>\n",
       "      <td>0</td>\n",
       "      <td>0</td>\n",
       "      <td>0.064516</td>\n",
       "      <td>0.107692</td>\n",
       "      <td>0.064516</td>\n",
       "      <td>0.000000</td>\n",
       "      <td>0.172208</td>\n",
       "      <td>20000000</td>\n",
       "    </tr>\n",
       "    <tr>\n",
       "      <th>2</th>\n",
       "      <td>Chicago White Stockings</td>\n",
       "      <td>23rd Street Grounds</td>\n",
       "      <td>CHC</td>\n",
       "      <td>Jason</td>\n",
       "      <td>Heyward</td>\n",
       "      <td>Jason Alias</td>\n",
       "      <td>heywaja01</td>\n",
       "      <td>2016</td>\n",
       "      <td>NL</td>\n",
       "      <td>61</td>\n",
       "      <td>...</td>\n",
       "      <td>2.0</td>\n",
       "      <td>7</td>\n",
       "      <td>27</td>\n",
       "      <td>1</td>\n",
       "      <td>0.230189</td>\n",
       "      <td>0.306261</td>\n",
       "      <td>0.324528</td>\n",
       "      <td>0.013208</td>\n",
       "      <td>0.630789</td>\n",
       "      <td>19555288</td>\n",
       "    </tr>\n",
       "    <tr>\n",
       "      <th>3</th>\n",
       "      <td>Chicago White Stockings</td>\n",
       "      <td>23rd Street Grounds</td>\n",
       "      <td>CHC</td>\n",
       "      <td>Alfonso</td>\n",
       "      <td>Soriano</td>\n",
       "      <td>Alfonso Guilleard</td>\n",
       "      <td>soriaal01</td>\n",
       "      <td>2013</td>\n",
       "      <td>NL</td>\n",
       "      <td>47</td>\n",
       "      <td>...</td>\n",
       "      <td>3.0</td>\n",
       "      <td>17</td>\n",
       "      <td>24</td>\n",
       "      <td>1</td>\n",
       "      <td>0.254144</td>\n",
       "      <td>0.287206</td>\n",
       "      <td>0.466851</td>\n",
       "      <td>0.046961</td>\n",
       "      <td>0.754057</td>\n",
       "      <td>19000000</td>\n",
       "    </tr>\n",
       "    <tr>\n",
       "      <th>4</th>\n",
       "      <td>Chicago White Stockings</td>\n",
       "      <td>23rd Street Grounds</td>\n",
       "      <td>CHC</td>\n",
       "      <td>Alfonso</td>\n",
       "      <td>Soriano</td>\n",
       "      <td>Alfonso Guilleard</td>\n",
       "      <td>soriaal01</td>\n",
       "      <td>2012</td>\n",
       "      <td>NL</td>\n",
       "      <td>68</td>\n",
       "      <td>...</td>\n",
       "      <td>3.0</td>\n",
       "      <td>32</td>\n",
       "      <td>33</td>\n",
       "      <td>2</td>\n",
       "      <td>0.262032</td>\n",
       "      <td>0.321951</td>\n",
       "      <td>0.499109</td>\n",
       "      <td>0.057041</td>\n",
       "      <td>0.821060</td>\n",
       "      <td>19000000</td>\n",
       "    </tr>\n",
       "  </tbody>\n",
       "</table>\n",
       "<p>5 rows × 25 columns</p>\n",
       "</div>"
      ],
      "text/plain": [
       "                      name                 park teamID nameFirst nameLast  \\\n",
       "0  Chicago White Stockings  23rd Street Grounds    CHC       Jon   Lester   \n",
       "1  Chicago White Stockings  23rd Street Grounds    CHC       Jon   Lester   \n",
       "2  Chicago White Stockings  23rd Street Grounds    CHC     Jason  Heyward   \n",
       "3  Chicago White Stockings  23rd Street Grounds    CHC   Alfonso  Soriano   \n",
       "4  Chicago White Stockings  23rd Street Grounds    CHC   Alfonso  Soriano   \n",
       "\n",
       "           nameGiven   playerID  yearID lgID   R    ...      SF  HR  2B  3B  \\\n",
       "0     Jonathan Tyler  lestejo01    2016   NL   3    ...     0.0   0   3   0   \n",
       "1     Jonathan Tyler  lestejo01    2015   NL   6    ...     0.0   0   0   0   \n",
       "2        Jason Alias  heywaja01    2016   NL  61    ...     2.0   7  27   1   \n",
       "3  Alfonso Guilleard  soriaal01    2013   NL  47    ...     3.0  17  24   1   \n",
       "4  Alfonso Guilleard  soriaal01    2012   NL  68    ...     3.0  32  33   2   \n",
       "\n",
       "         BA       OBP       SLG   HRRatio       OPS    salary  \n",
       "0  0.101695  0.184615  0.152542  0.000000  0.337158  25000000  \n",
       "1  0.064516  0.107692  0.064516  0.000000  0.172208  20000000  \n",
       "2  0.230189  0.306261  0.324528  0.013208  0.630789  19555288  \n",
       "3  0.254144  0.287206  0.466851  0.046961  0.754057  19000000  \n",
       "4  0.262032  0.321951  0.499109  0.057041  0.821060  19000000  \n",
       "\n",
       "[5 rows x 25 columns]"
      ]
     },
     "execution_count": 661,
     "metadata": {},
     "output_type": "execute_result"
    }
   ],
   "source": [
    "MergeBattingInfo2016 = pd.merge(batting2016, SalariesBy2016, on=['yearID', 'playerID'], how='inner').fillna(0)\n",
    "MergeBattingInfo5Yrs = pd.merge(battingFiveYrs, SalariesBy5Yrs, on=['yearID', 'playerID'], how='inner').fillna(0)\n",
    "ALTopPlayers2016 = getDataByLeague(MergeBattingInfo2016, 'AL')\n",
    "ALTopPlayers5Yrs = getDataByLeague(MergeBattingInfo5Yrs, 'AL')\n",
    "NLTopPlayers2016 = getDataByLeague(MergeBattingInfo2016, 'NL')\n",
    "NLTopPlayers5Yrs = getDataByLeague(MergeBattingInfo5Yrs, 'NL')\n",
    "NL2016withNames = AddPlayerNames(NLTopPlayers2016).sort_values('salary', ascending=False)\n",
    "NL5YrswithNames = AddPlayerNames(NLTopPlayers5Yrs).sort_values('salary', ascending=False)\n",
    "AL2016withNames = AddPlayerNames(ALTopPlayers2016).sort_values('salary', ascending=False)\n",
    "AL5YrswithNames = AddPlayerNames(ALTopPlayers5Yrs).sort_values('salary', ascending=False)\n",
    "getTeamInfo(NL5YrswithNames).head()"
   ]
  },
  {
   "cell_type": "code",
   "execution_count": 662,
   "metadata": {},
   "outputs": [
    {
     "data": {
      "text/plain": [
       "R      19.842291\n",
       "BA      0.156265\n",
       "OBP     0.201266\n",
       "SLG     0.232755\n",
       "OPS     0.430497\n",
       "HR      4.514537\n",
       "Name: mean, dtype: float64"
      ]
     },
     "execution_count": 662,
     "metadata": {},
     "output_type": "execute_result"
    }
   ],
   "source": [
    "#Calculating League Stats\n",
    "batInfoNL2016Stats = NL2016withNames[['R','BA','OBP','SLG','OPS','HR']].describe()\n",
    "batInfoNL5YrsStats = NL5YrswithNames[['R','BA','OBP','SLG','OPS','HR']].describe()\n",
    "batInfoAL2016Stats = AL2016withNames[['R','BA','OBP','SLG','OPS','HR']].describe()\n",
    "batInfoAL5YrsStats = AL5YrswithNames[['R','BA','OBP','SLG','OPS','HR']].describe()\n",
    "#batInfoAL5YrsStats.iloc[1,1]\n",
    "batInfoNL5YrsStats.iloc[1]"
   ]
  },
  {
   "cell_type": "code",
   "execution_count": 664,
   "metadata": {},
   "outputs": [
    {
     "data": {
      "text/html": [
       "<div>\n",
       "<style>\n",
       "    .dataframe thead tr:only-child th {\n",
       "        text-align: right;\n",
       "    }\n",
       "\n",
       "    .dataframe thead th {\n",
       "        text-align: left;\n",
       "    }\n",
       "\n",
       "    .dataframe tbody tr th {\n",
       "        vertical-align: top;\n",
       "    }\n",
       "</style>\n",
       "<table border=\"1\" class=\"dataframe\">\n",
       "  <thead>\n",
       "    <tr style=\"text-align: right;\">\n",
       "      <th></th>\n",
       "      <th>yearID</th>\n",
       "      <th>teamID</th>\n",
       "      <th>lgID</th>\n",
       "      <th>playerID</th>\n",
       "      <th>W</th>\n",
       "      <th>L</th>\n",
       "      <th>G</th>\n",
       "      <th>BAOpp</th>\n",
       "      <th>ERA</th>\n",
       "      <th>R</th>\n",
       "      <th>CG</th>\n",
       "      <th>SHO</th>\n",
       "      <th>SV</th>\n",
       "      <th>H</th>\n",
       "    </tr>\n",
       "  </thead>\n",
       "  <tbody>\n",
       "    <tr>\n",
       "      <th>24980</th>\n",
       "      <td>1985</td>\n",
       "      <td>BAL</td>\n",
       "      <td>AL</td>\n",
       "      <td>aasedo01</td>\n",
       "      <td>10</td>\n",
       "      <td>6</td>\n",
       "      <td>54</td>\n",
       "      <td>0.25</td>\n",
       "      <td>3.78</td>\n",
       "      <td>44</td>\n",
       "      <td>0</td>\n",
       "      <td>0</td>\n",
       "      <td>14</td>\n",
       "      <td>83</td>\n",
       "    </tr>\n",
       "    <tr>\n",
       "      <th>24981</th>\n",
       "      <td>1985</td>\n",
       "      <td>CHN</td>\n",
       "      <td>NL</td>\n",
       "      <td>abregjo01</td>\n",
       "      <td>1</td>\n",
       "      <td>1</td>\n",
       "      <td>6</td>\n",
       "      <td>0.35</td>\n",
       "      <td>6.38</td>\n",
       "      <td>18</td>\n",
       "      <td>0</td>\n",
       "      <td>0</td>\n",
       "      <td>0</td>\n",
       "      <td>32</td>\n",
       "    </tr>\n",
       "    <tr>\n",
       "      <th>24982</th>\n",
       "      <td>1985</td>\n",
       "      <td>TOR</td>\n",
       "      <td>AL</td>\n",
       "      <td>ackerji01</td>\n",
       "      <td>7</td>\n",
       "      <td>2</td>\n",
       "      <td>61</td>\n",
       "      <td>0.26</td>\n",
       "      <td>3.23</td>\n",
       "      <td>35</td>\n",
       "      <td>0</td>\n",
       "      <td>0</td>\n",
       "      <td>10</td>\n",
       "      <td>86</td>\n",
       "    </tr>\n",
       "    <tr>\n",
       "      <th>24983</th>\n",
       "      <td>1985</td>\n",
       "      <td>CHA</td>\n",
       "      <td>AL</td>\n",
       "      <td>agostju01</td>\n",
       "      <td>4</td>\n",
       "      <td>3</td>\n",
       "      <td>54</td>\n",
       "      <td>0.21</td>\n",
       "      <td>3.58</td>\n",
       "      <td>27</td>\n",
       "      <td>0</td>\n",
       "      <td>0</td>\n",
       "      <td>1</td>\n",
       "      <td>45</td>\n",
       "    </tr>\n",
       "    <tr>\n",
       "      <th>24984</th>\n",
       "      <td>1985</td>\n",
       "      <td>NYN</td>\n",
       "      <td>NL</td>\n",
       "      <td>aguilri01</td>\n",
       "      <td>10</td>\n",
       "      <td>7</td>\n",
       "      <td>21</td>\n",
       "      <td>0.25</td>\n",
       "      <td>3.24</td>\n",
       "      <td>49</td>\n",
       "      <td>2</td>\n",
       "      <td>0</td>\n",
       "      <td>0</td>\n",
       "      <td>118</td>\n",
       "    </tr>\n",
       "  </tbody>\n",
       "</table>\n",
       "</div>"
      ],
      "text/plain": [
       "       yearID teamID lgID   playerID   W  L   G  BAOpp   ERA   R  CG  SHO  SV  \\\n",
       "24980    1985    BAL   AL   aasedo01  10  6  54   0.25  3.78  44   0    0  14   \n",
       "24981    1985    CHN   NL  abregjo01   1  1   6   0.35  6.38  18   0    0   0   \n",
       "24982    1985    TOR   AL  ackerji01   7  2  61   0.26  3.23  35   0    0  10   \n",
       "24983    1985    CHA   AL  agostju01   4  3  54   0.21  3.58  27   0    0   1   \n",
       "24984    1985    NYN   NL  aguilri01  10  7  21   0.25  3.24  49   2    0   0   \n",
       "\n",
       "         H  \n",
       "24980   83  \n",
       "24981   32  \n",
       "24982   86  \n",
       "24983   45  \n",
       "24984  118  "
      ]
     },
     "execution_count": 664,
     "metadata": {},
     "output_type": "execute_result"
    }
   ],
   "source": [
    "pitchInfo = pitchingInfo[pitchingInfo['yearID'] >= 1985]\n",
    "pitchInfo = pitchInfo[['yearID', 'teamID','lgID' ,'playerID', 'W', 'L', 'G', 'BAOpp', 'ERA', 'R','CG', 'SHO','SV', 'H']].fillna(0)\n",
    "pitchInfo.head()"
   ]
  },
  {
   "cell_type": "code",
   "execution_count": 665,
   "metadata": {},
   "outputs": [
    {
     "data": {
      "text/html": [
       "<div>\n",
       "<style>\n",
       "    .dataframe thead tr:only-child th {\n",
       "        text-align: right;\n",
       "    }\n",
       "\n",
       "    .dataframe thead th {\n",
       "        text-align: left;\n",
       "    }\n",
       "\n",
       "    .dataframe tbody tr th {\n",
       "        vertical-align: top;\n",
       "    }\n",
       "</style>\n",
       "<table border=\"1\" class=\"dataframe\">\n",
       "  <thead>\n",
       "    <tr style=\"text-align: right;\">\n",
       "      <th></th>\n",
       "      <th>nameFirst</th>\n",
       "      <th>nameLast</th>\n",
       "      <th>nameGiven</th>\n",
       "      <th>playerID</th>\n",
       "      <th>yearID</th>\n",
       "      <th>teamID</th>\n",
       "      <th>lgID</th>\n",
       "      <th>W</th>\n",
       "      <th>L</th>\n",
       "      <th>G</th>\n",
       "      <th>BAOpp</th>\n",
       "      <th>ERA</th>\n",
       "      <th>R</th>\n",
       "      <th>CG</th>\n",
       "      <th>SHO</th>\n",
       "      <th>SV</th>\n",
       "      <th>H</th>\n",
       "      <th>salary</th>\n",
       "    </tr>\n",
       "  </thead>\n",
       "  <tbody>\n",
       "    <tr>\n",
       "      <th>100</th>\n",
       "      <td>Clayton</td>\n",
       "      <td>Kershaw</td>\n",
       "      <td>Clayton Edward</td>\n",
       "      <td>kershcl01</td>\n",
       "      <td>2016</td>\n",
       "      <td>LAN</td>\n",
       "      <td>NL</td>\n",
       "      <td>12</td>\n",
       "      <td>4</td>\n",
       "      <td>21</td>\n",
       "      <td>0.184</td>\n",
       "      <td>1.69</td>\n",
       "      <td>31</td>\n",
       "      <td>3</td>\n",
       "      <td>3</td>\n",
       "      <td>0</td>\n",
       "      <td>97</td>\n",
       "      <td>33000000</td>\n",
       "    </tr>\n",
       "    <tr>\n",
       "      <th>72</th>\n",
       "      <td>Zack</td>\n",
       "      <td>Greinke</td>\n",
       "      <td>Donald Zachary</td>\n",
       "      <td>greinza01</td>\n",
       "      <td>2016</td>\n",
       "      <td>ARI</td>\n",
       "      <td>NL</td>\n",
       "      <td>13</td>\n",
       "      <td>7</td>\n",
       "      <td>26</td>\n",
       "      <td>0.262</td>\n",
       "      <td>4.37</td>\n",
       "      <td>80</td>\n",
       "      <td>1</td>\n",
       "      <td>1</td>\n",
       "      <td>0</td>\n",
       "      <td>161</td>\n",
       "      <td>31799030</td>\n",
       "    </tr>\n",
       "    <tr>\n",
       "      <th>109</th>\n",
       "      <td>Jon</td>\n",
       "      <td>Lester</td>\n",
       "      <td>Jonathan Tyler</td>\n",
       "      <td>lestejo01</td>\n",
       "      <td>2016</td>\n",
       "      <td>CHN</td>\n",
       "      <td>NL</td>\n",
       "      <td>19</td>\n",
       "      <td>5</td>\n",
       "      <td>32</td>\n",
       "      <td>0.211</td>\n",
       "      <td>2.44</td>\n",
       "      <td>57</td>\n",
       "      <td>2</td>\n",
       "      <td>0</td>\n",
       "      <td>0</td>\n",
       "      <td>154</td>\n",
       "      <td>25000000</td>\n",
       "    </tr>\n",
       "    <tr>\n",
       "      <th>198</th>\n",
       "      <td>Max</td>\n",
       "      <td>Scherzer</td>\n",
       "      <td>Maxwell M.</td>\n",
       "      <td>scherma01</td>\n",
       "      <td>2016</td>\n",
       "      <td>WAS</td>\n",
       "      <td>NL</td>\n",
       "      <td>20</td>\n",
       "      <td>7</td>\n",
       "      <td>34</td>\n",
       "      <td>0.199</td>\n",
       "      <td>2.96</td>\n",
       "      <td>77</td>\n",
       "      <td>1</td>\n",
       "      <td>0</td>\n",
       "      <td>0</td>\n",
       "      <td>165</td>\n",
       "      <td>22142857</td>\n",
       "    </tr>\n",
       "    <tr>\n",
       "      <th>199</th>\n",
       "      <td>James</td>\n",
       "      <td>Shields</td>\n",
       "      <td>James Anthony</td>\n",
       "      <td>shielja02</td>\n",
       "      <td>2016</td>\n",
       "      <td>SDN</td>\n",
       "      <td>NL</td>\n",
       "      <td>2</td>\n",
       "      <td>7</td>\n",
       "      <td>11</td>\n",
       "      <td>0.272</td>\n",
       "      <td>4.28</td>\n",
       "      <td>33</td>\n",
       "      <td>0</td>\n",
       "      <td>0</td>\n",
       "      <td>0</td>\n",
       "      <td>69</td>\n",
       "      <td>21000000</td>\n",
       "    </tr>\n",
       "  </tbody>\n",
       "</table>\n",
       "</div>"
      ],
      "text/plain": [
       "    nameFirst  nameLast       nameGiven   playerID  yearID teamID lgID   W  L  \\\n",
       "100   Clayton   Kershaw  Clayton Edward  kershcl01    2016    LAN   NL  12  4   \n",
       "72       Zack   Greinke  Donald Zachary  greinza01    2016    ARI   NL  13  7   \n",
       "109       Jon    Lester  Jonathan Tyler  lestejo01    2016    CHN   NL  19  5   \n",
       "198       Max  Scherzer      Maxwell M.  scherma01    2016    WAS   NL  20  7   \n",
       "199     James   Shields   James Anthony  shielja02    2016    SDN   NL   2  7   \n",
       "\n",
       "      G  BAOpp   ERA   R  CG  SHO  SV    H    salary  \n",
       "100  21  0.184  1.69  31   3    3   0   97  33000000  \n",
       "72   26  0.262  4.37  80   1    1   0  161  31799030  \n",
       "109  32  0.211  2.44  57   2    0   0  154  25000000  \n",
       "198  34  0.199  2.96  77   1    0   0  165  22142857  \n",
       "199  11  0.272  4.28  33   0    0   0   69  21000000  "
      ]
     },
     "execution_count": 665,
     "metadata": {},
     "output_type": "execute_result"
    },
    {
     "data": {
      "text/html": [
       "<div>\n",
       "<style>\n",
       "    .dataframe thead tr:only-child th {\n",
       "        text-align: right;\n",
       "    }\n",
       "\n",
       "    .dataframe thead th {\n",
       "        text-align: left;\n",
       "    }\n",
       "\n",
       "    .dataframe tbody tr th {\n",
       "        vertical-align: top;\n",
       "    }\n",
       "</style>\n",
       "<table border=\"1\" class=\"dataframe\">\n",
       "  <thead>\n",
       "    <tr style=\"text-align: right;\">\n",
       "      <th></th>\n",
       "      <th>nameFirst</th>\n",
       "      <th>nameLast</th>\n",
       "      <th>nameGiven</th>\n",
       "      <th>playerID</th>\n",
       "      <th>yearID</th>\n",
       "      <th>teamID</th>\n",
       "      <th>lgID</th>\n",
       "      <th>W</th>\n",
       "      <th>L</th>\n",
       "      <th>G</th>\n",
       "      <th>BAOpp</th>\n",
       "      <th>ERA</th>\n",
       "      <th>R</th>\n",
       "      <th>CG</th>\n",
       "      <th>SHO</th>\n",
       "      <th>SV</th>\n",
       "      <th>H</th>\n",
       "      <th>salary</th>\n",
       "    </tr>\n",
       "  </thead>\n",
       "  <tbody>\n",
       "    <tr>\n",
       "      <th>154</th>\n",
       "      <td>David</td>\n",
       "      <td>Price</td>\n",
       "      <td>David Taylor</td>\n",
       "      <td>priceda01</td>\n",
       "      <td>2016</td>\n",
       "      <td>BOS</td>\n",
       "      <td>AL</td>\n",
       "      <td>17</td>\n",
       "      <td>9</td>\n",
       "      <td>35</td>\n",
       "      <td>0.258</td>\n",
       "      <td>3.99</td>\n",
       "      <td>106</td>\n",
       "      <td>2</td>\n",
       "      <td>0</td>\n",
       "      <td>0</td>\n",
       "      <td>227</td>\n",
       "      <td>30000000</td>\n",
       "    </tr>\n",
       "    <tr>\n",
       "      <th>209</th>\n",
       "      <td>Justin</td>\n",
       "      <td>Verlander</td>\n",
       "      <td>Justin Brooks</td>\n",
       "      <td>verlaju01</td>\n",
       "      <td>2016</td>\n",
       "      <td>DET</td>\n",
       "      <td>AL</td>\n",
       "      <td>16</td>\n",
       "      <td>9</td>\n",
       "      <td>34</td>\n",
       "      <td>0.207</td>\n",
       "      <td>3.04</td>\n",
       "      <td>81</td>\n",
       "      <td>2</td>\n",
       "      <td>0</td>\n",
       "      <td>0</td>\n",
       "      <td>171</td>\n",
       "      <td>28000000</td>\n",
       "    </tr>\n",
       "    <tr>\n",
       "      <th>82</th>\n",
       "      <td>Felix</td>\n",
       "      <td>Hernandez</td>\n",
       "      <td>Felix Abraham</td>\n",
       "      <td>hernafe02</td>\n",
       "      <td>2016</td>\n",
       "      <td>SEA</td>\n",
       "      <td>AL</td>\n",
       "      <td>11</td>\n",
       "      <td>8</td>\n",
       "      <td>25</td>\n",
       "      <td>0.239</td>\n",
       "      <td>3.82</td>\n",
       "      <td>76</td>\n",
       "      <td>0</td>\n",
       "      <td>0</td>\n",
       "      <td>0</td>\n",
       "      <td>138</td>\n",
       "      <td>25857143</td>\n",
       "    </tr>\n",
       "    <tr>\n",
       "      <th>77</th>\n",
       "      <td>Cole</td>\n",
       "      <td>Hamels</td>\n",
       "      <td>Colbert Michael</td>\n",
       "      <td>hamelco01</td>\n",
       "      <td>2016</td>\n",
       "      <td>TEX</td>\n",
       "      <td>AL</td>\n",
       "      <td>15</td>\n",
       "      <td>5</td>\n",
       "      <td>32</td>\n",
       "      <td>0.243</td>\n",
       "      <td>3.32</td>\n",
       "      <td>83</td>\n",
       "      <td>0</td>\n",
       "      <td>0</td>\n",
       "      <td>0</td>\n",
       "      <td>185</td>\n",
       "      <td>22500000</td>\n",
       "    </tr>\n",
       "    <tr>\n",
       "      <th>199</th>\n",
       "      <td>Masahiro</td>\n",
       "      <td>Tanaka</td>\n",
       "      <td>Masahiro</td>\n",
       "      <td>tanakma01</td>\n",
       "      <td>2016</td>\n",
       "      <td>NYA</td>\n",
       "      <td>AL</td>\n",
       "      <td>14</td>\n",
       "      <td>4</td>\n",
       "      <td>31</td>\n",
       "      <td>0.236</td>\n",
       "      <td>3.07</td>\n",
       "      <td>75</td>\n",
       "      <td>0</td>\n",
       "      <td>0</td>\n",
       "      <td>0</td>\n",
       "      <td>179</td>\n",
       "      <td>22000000</td>\n",
       "    </tr>\n",
       "  </tbody>\n",
       "</table>\n",
       "</div>"
      ],
      "text/plain": [
       "    nameFirst   nameLast        nameGiven   playerID  yearID teamID lgID   W  \\\n",
       "154     David      Price     David Taylor  priceda01    2016    BOS   AL  17   \n",
       "209    Justin  Verlander    Justin Brooks  verlaju01    2016    DET   AL  16   \n",
       "82      Felix  Hernandez    Felix Abraham  hernafe02    2016    SEA   AL  11   \n",
       "77       Cole     Hamels  Colbert Michael  hamelco01    2016    TEX   AL  15   \n",
       "199  Masahiro     Tanaka         Masahiro  tanakma01    2016    NYA   AL  14   \n",
       "\n",
       "     L   G  BAOpp   ERA    R  CG  SHO  SV    H    salary  \n",
       "154  9  35  0.258  3.99  106   2    0   0  227  30000000  \n",
       "209  9  34  0.207  3.04   81   2    0   0  171  28000000  \n",
       "82   8  25  0.239  3.82   76   0    0   0  138  25857143  \n",
       "77   5  32  0.243  3.32   83   0    0   0  185  22500000  \n",
       "199  4  31  0.236  3.07   75   0    0   0  179  22000000  "
      ]
     },
     "execution_count": 665,
     "metadata": {},
     "output_type": "execute_result"
    }
   ],
   "source": [
    "pitchPlayer = pd.merge(pitchInfo, salariesSalary, on=['yearID', 'playerID'], how='inner').fillna(0)\n",
    "ALTopPitchers = pitchPlayer[pitchPlayer['lgID']=='AL'].sort_values('salary', ascending=False)\n",
    "NLTopPitchers = pitchPlayer[pitchPlayer['lgID']=='NL'].sort_values('salary', ascending=False)\n",
    "NLTopPitcherswithNames = pd.merge(playerInfo[['nameFirst','nameLast','nameGiven','playerID']], NLTopPitchers, on=['playerID'], how='inner').fillna(0).sort_values('salary', ascending=False)\n",
    "ALTopPitcherswithNames = pd.merge(playerInfo[['nameFirst','nameLast','nameGiven','playerID']], ALTopPitchers, on=['playerID'], how='inner').fillna(0).sort_values('salary', ascending=False)\n",
    "NLTopPitcherswithNames.head()\n",
    "ALTopPitcherswithNames.head()"
   ]
  },
  {
   "cell_type": "code",
   "execution_count": 666,
   "metadata": {},
   "outputs": [
    {
     "data": {
      "text/plain": [
       "<matplotlib.axes._subplots.AxesSubplot at 0x11e33d6d8>"
      ]
     },
     "execution_count": 666,
     "metadata": {},
     "output_type": "execute_result"
    },
    {
     "data": {
      "image/png": "[encoded data removed]",
      "text/plain": [
       "<matplotlib.figure.Figure at 0x11e36fdd8>"
      ]
     },
     "metadata": {},
     "output_type": "display_data"
    }
   ],
   "source": [
    "sns.heatmap(NLTopPitcherswithNames[['salary', 'W', 'L', 'ERA', 'BAOpp']].corr(), annot=True, fmt=\"g\", cmap='viridis')"
   ]
  },
  {
   "cell_type": "code",
   "execution_count": 667,
   "metadata": {},
   "outputs": [
    {
     "data": {
      "text/plain": [
       "<matplotlib.axes._subplots.AxesSubplot at 0x1170199b0>"
      ]
     },
     "execution_count": 667,
     "metadata": {},
     "output_type": "execute_result"
    },
    {
     "data": {
      "image/png": "[encoded data removed]",
      "text/plain": [
       "<matplotlib.figure.Figure at 0x11701eda0>"
      ]
     },
     "metadata": {},
     "output_type": "display_data"
    }
   ],
   "source": [
    "sns.heatmap(ALTopPitcherswithNames[['salary', 'W', 'L', 'ERA', 'BAOpp']].corr(), annot=True, fmt=\"g\", cmap='viridis')"
   ]
  },
  {
   "cell_type": "code",
   "execution_count": 668,
   "metadata": {},
   "outputs": [
    {
     "data": {
      "image/png": "[encoded data removed]",
      "text/plain": [
       "<matplotlib.figure.Figure at 0x1167d0b00>"
      ]
     },
     "metadata": {},
     "output_type": "display_data"
    }
   ],
   "source": [
    "import seaborn as sns; sns.set(color_codes=True)\n",
    "ax = sns.regplot(x=ALTopPitchers['ERA'].head(), y=ALTopPitchers['W'].head())"
   ]
  },
  {
   "cell_type": "code",
   "execution_count": 669,
   "metadata": {},
   "outputs": [
    {
     "data": {
      "image/png": "[encoded data removed]",
      "text/plain": [
       "<matplotlib.figure.Figure at 0x115c5d400>"
      ]
     },
     "metadata": {},
     "output_type": "display_data"
    }
   ],
   "source": [
    "import seaborn as sns; sns.set(color_codes=True)\n",
    "ax = sns.regplot(x=NLTopPitchers['ERA'].head(), y=NLTopPitchers['W'].head())"
   ]
  },
  {
   "cell_type": "markdown",
   "metadata": {},
   "source": [
    "References:\n",
    "* https://www.pinstripealley.com/2010/12/23/1892608/baseball-statistics-and-acronyms-explained\n",
    "* https://pandas.pydata.org/pandas-docs/stable/visualization.html\n",
    "* https://www.baseball-reference.com/leagues/MLB/2012.shtml"
   ]
  },
  {
   "cell_type": "code",
   "execution_count": null,
   "metadata": {
    "collapsed": true
   },
   "outputs": [],
   "source": []
  }
 ],
 "metadata": {
  "kernelspec": {
   "display_name": "Python 3",
   "language": "python",
   "name": "python3"
  },
  "language_info": {
   "codemirror_mode": {
    "name": "ipython",
    "version": 3
   },
   "file_extension": ".py",
   "mimetype": "text/x-python",
   "name": "python",
   "nbconvert_exporter": "python",
   "pygments_lexer": "ipython3",
   "version": "3.6.2"
  }
 },
 "nbformat": 4,
 "nbformat_minor": 2
}
